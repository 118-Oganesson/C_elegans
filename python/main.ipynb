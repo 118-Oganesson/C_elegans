{
 "cells": [
  {
   "cell_type": "code",
   "execution_count": 2,
   "metadata": {},
   "outputs": [],
   "source": [
    "import load\n",
    "import oed\n",
    "import figure"
   ]
  },
  {
   "cell_type": "code",
   "execution_count": 5,
   "metadata": {},
   "outputs": [],
   "source": [
    "# jsonファイルの読み込み\n",
    "result = load.load_result_json(\"../result/Result.json\")\n",
    "\n",
    "gene = result[0][\"gene\"]\n",
    "\n",
    "N, M, theta, w_on, w_off, w, g, w_osc, w_nmj = oed.weight(gene)\n",
    "alpha, x_peak, y_peak, dt, T, f, v, time, tau = oed.constant(\"setting\")\n",
    "N_, M_, f_inv, T_ = oed.time_constant_step(gene, \"setting\")"
   ]
  },
  {
   "cell_type": "code",
   "execution_count": null,
   "metadata": {},
   "outputs": [],
   "source": [
    "result_json_file_path = \"../result/Result_aiz_negative.json\"\n",
    "limit_or_unlimit = \"limited\"\n",
    "gene_range = 30\n",
    "use_function = [\n",
    "    # \"connectome\",\n",
    "    \"newron_output\",\n",
    "    \"Bearing_vs_Turing_bias\",\n",
    "    \"Normal_gradient_vs_Turing_bias\",\n",
    "    \"Translational_gradient_vs_Turing_bias\",\n",
    "    # \"trajectory\",\n",
    "    # \"trajectory_membrane_potential\",\n",
    "]\n",
    "\n",
    "figure.all_figure_create(\n",
    "    result_json_file_path, limit_or_unlimit, gene_range, use_function\n",
    ")"
   ]
  },
  {
   "cell_type": "code",
   "execution_count": 6,
   "metadata": {},
   "outputs": [
    {
     "name": "stdout",
     "output_type": "stream",
     "text": [
      "../figure/unlimited/bearing_vs_turning_bias/b_vs_t_0.png\n",
      "../figure/unlimited/bearing_vs_turning_bias/b_vs_t_1.png\n",
      "../figure/unlimited/bearing_vs_turning_bias/b_vs_t_2.png\n",
      "../figure/unlimited/bearing_vs_turning_bias/b_vs_t_3.png\n",
      "../figure/unlimited/bearing_vs_turning_bias/b_vs_t_4.png\n",
      "../figure/unlimited/bearing_vs_turning_bias/b_vs_t_5.png\n",
      "../figure/unlimited/bearing_vs_turning_bias/b_vs_t_6.png\n",
      "../figure/unlimited/bearing_vs_turning_bias/b_vs_t_7.png\n",
      "../figure/unlimited/bearing_vs_turning_bias/b_vs_t_8.png\n",
      "../figure/unlimited/bearing_vs_turning_bias/b_vs_t_9.png\n"
     ]
    }
   ],
   "source": [
    "import glob\n",
    "\n",
    "connectome = sorted(glob.glob(\"../figure/unlimited/connectome/*\"))\n",
    "newron_output = sorted(glob.glob(\"../figure/unlimited/newron/*\"))\n",
    "Bearing_vs_Turing_bias = sorted(\n",
    "    glob.glob(\"../figure/unlimited/bearing_vs_turning_bias/*\")\n",
    ")\n",
    "for file in Bearing_vs_Turing_bias:\n",
    "    print(file)"
   ]
  },
  {
   "cell_type": "code",
   "execution_count": 57,
   "metadata": {},
   "outputs": [],
   "source": [
    "import load\n",
    "import json\n",
    "import numpy as np\n",
    "\n",
    "gene_number = 3\n",
    "start = 0\n",
    "stop = 1\n",
    "num = 10\n",
    "\n",
    "\n",
    "result = load.load_result_json(\"../result/Result_aiz_negative.json\")\n",
    "base_gene = np.array(result[gene_number][\"gene\"])\n",
    "\n",
    "change_result = []\n",
    "for delta_gene in np.linspace(start, stop, num + 1):\n",
    "    zero_gene = np.zeros_like(base_gene)\n",
    "    zero_gene[10:12] = [delta_gene] * 2\n",
    "    change_gene = base_gene + zero_gene\n",
    "    change_result.append({\"value\": delta_gene, \"gene\": change_gene.tolist()})\n",
    "\n",
    "json_data = json.dumps(change_result, indent=1)\n",
    "with open(\n",
    "    \"../analysis/Result_aiz_negative_{}/Result_aiz_negative_{}.json\".format(\n",
    "        gene_number, gene_number\n",
    "    ),\n",
    "    \"w\",\n",
    ") as json_file:\n",
    "    json_file.write(json_data)"
   ]
  },
  {
   "cell_type": "code",
   "execution_count": null,
   "metadata": {},
   "outputs": [],
   "source": [
    "import load\n",
    "import figure\n",
    "\n",
    "gene_number = 0\n",
    "\n",
    "result = load.load_result_json(\n",
    "    \"../analysis/Result_aiz_negative_{}/Result_aiz_negative_{}.json\".format(\n",
    "        gene_number, gene_number\n",
    "    )\n",
    ")\n",
    "connectome_file_path_base = (\n",
    "    \"../analysis/Result_aiz_negative_{}/figure/connectome/connectome_\".format(\n",
    "        gene_number\n",
    "    )\n",
    ")\n",
    "N_T_in_file_path_base = \"../analysis/Result_aiz_negative_{}/output/nomal_gradient_vs_turning_bias/n_vs_t_\".format(\n",
    "    gene_number\n",
    ")\n",
    "N_T_out_file_path_base = \"../analysis/Result_aiz_negative_{}/figure/nomal_gradient_vs_turning_bias/n_vs_t_\".format(\n",
    "    gene_number\n",
    ")\n",
    "membrane_potential_file_path_base = \"../analysis/Result_aiz_negative_{}/figure/trajectory_membrane_potential/trajectory_membrane_potential_\".format(\n",
    "    gene_number\n",
    ")\n",
    "newron_file_path_base = (\n",
    "    \"../analysis/Result_aiz_negative_{}/figure/newron/newron_\".format(gene_number)\n",
    ")\n",
    "\n",
    "for i in range(11):\n",
    "    gene = result[i][\"gene\"]\n",
    "    # file_path = \"{}{}\".format(connectome_file_path_base, i)\n",
    "    # figure.connectome(gene, file_path)\n",
    "    # in_file_path = \"{}{}.txt\".format(N_T_in_file_path_base, i)\n",
    "    # out_file_path = \"{}{}\".format(N_T_out_file_path_base, i)\n",
    "    # figure.Normal_gradient_vs_Turing_bias(in_file_path, out_file_path)\n",
    "    # file_path = \"{}{}\".format(membrane_potential_file_path_base, i)\n",
    "    # figure.trajectory_membrane_potential(gene, 10, file_path)\n",
    "    file_path = \"{}{}\".format(newron_file_path_base, i)\n",
    "    figure.newron_output(gene, file_path)"
   ]
  },
  {
   "cell_type": "code",
   "execution_count": 51,
   "metadata": {},
   "outputs": [
    {
     "data": {
      "image/png": "[encoded data removed]",
      "text/plain": [
       "<Figure size 640x480 with 1 Axes>"
      ]
     },
     "metadata": {},
     "output_type": "display_data"
    }
   ],
   "source": [
    "import load\n",
    "import glob\n",
    "import matplotlib.pyplot as plt\n",
    "import matplotlib.cm as cm\n",
    "\n",
    "\n",
    "def Normal_gradient_vs_Turing_bias_concentration_memory(in_file_paths, out_file_path):\n",
    "    for i, in_file_path in enumerate(in_file_paths):\n",
    "        data = load.load_output_txt(in_file_path)\n",
    "        color = cm.Reds(1 - i / len(in_file_paths))\n",
    "\n",
    "        plt.errorbar(\n",
    "            data[0],\n",
    "            data[1],\n",
    "            yerr=data[2],\n",
    "            capsize=5,\n",
    "            fmt=\"o\",\n",
    "            markersize=3,\n",
    "            ecolor=color,\n",
    "            markeredgecolor=color,\n",
    "            color=color,\n",
    "        )\n",
    "\n",
    "    plt.xlabel(\"Normal gradient (mM/cm)\")\n",
    "    plt.ylabel(\"Turning bias (degrees)\")\n",
    "    plt.xticks([-0.01, -0.005, 0, 0.005, 0.01])\n",
    "    # plt.yticks([-40, -20, 0, 20, 40])\n",
    "\n",
    "    plt.savefig(out_file_path, dpi=300)\n",
    "    plt.show()\n",
    "\n",
    "    return\n",
    "\n",
    "\n",
    "Result_aiz_negative_0_file_paths = sorted(\n",
    "    glob.glob(\"../analysis/Result_aiz_negative_0/*\")\n",
    ")[8:]\n",
    "Normal_gradient_vs_Turing_bias_concentration_memory(\n",
    "    Result_aiz_negative_0_file_paths,\n",
    "    \"../analysis/Normal_gradient_vs_Turing_bias_concentration_memory\",\n",
    ")"
   ]
  },
  {
   "cell_type": "code",
   "execution_count": null,
   "metadata": {},
   "outputs": [],
   "source": []
  }
 ],
 "metadata": {
  "kernelspec": {
   "display_name": "c_elegans",
   "language": "python",
   "name": "python3"
  },
  "language_info": {
   "codemirror_mode": {
    "name": "ipython",
    "version": 3
   },
   "file_extension": ".py",
   "mimetype": "text/x-python",
   "name": "python",
   "nbconvert_exporter": "python",
   "pygments_lexer": "ipython3",
   "version": "3.12.0"
  },
  "orig_nbformat": 4
 },
 "nbformat": 4,
 "nbformat_minor": 2
}
