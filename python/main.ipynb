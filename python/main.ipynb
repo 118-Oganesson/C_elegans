{
 "cells": [
  {
   "cell_type": "code",
   "execution_count": 1,
   "metadata": {},
   "outputs": [],
   "source": [
    "import load\n",
    "import oed\n",
    "import figure"
   ]
  },
  {
   "cell_type": "code",
   "execution_count": 2,
   "metadata": {},
   "outputs": [],
   "source": [
    "# jsonファイルの読み込み\n",
    "result = load.load_result_json(\"../result/Result.json\")\n",
    "\n",
    "gene = result[0][\"gene\"]\n",
    "\n",
    "N, M, theta, w_on, w_off, w, g, w_osc, w_nmj = oed.weight(gene)\n",
    "alpha, x_peak, y_peak, dt, T, f, v, time, tau = oed.constant(\"setting\")\n",
    "N_, M_, f_inv, T_ = oed.time_constant_step(gene, \"setting\")\n",
    "\n",
    "# figure.trajectory(gene, 10)\n",
    "# figure.newron_output(gene)\n",
    "\n",
    "# figure.Bearing_vs_Turing_bias(\"../output/b_vs_t.txt\", \"../figure/Bearing_vs_Turing_bias.png\")\n",
    "# figure.Normal_gradient_vs_Turing_bias(\"../output/n_vs_t.txt\", \"../figure/Normal_gradient_vs_Turing_bias\")\n",
    "# figure.Translational_gradient_vs_Turing_bias(\"../output/t_vs_t.txt\", \"../figure/Translational_gradient_vs_Turing_bias\")\n",
    "# figure.trajectory(gene, 10, 7, \"../figure/Trajectory_colorbar\")\n",
    "# figure.trajectory_membrane_potential(gene, 10, \"../figure/membrane_potential_aiy_aiz\")"
   ]
  },
  {
   "cell_type": "code",
   "execution_count": null,
   "metadata": {},
   "outputs": [],
   "source": [
    "result = load.load_result_json(\"../result/Result.json\")\n",
    "file_path_base = \"../figure/connectome/connectome_\"\n",
    "for i in range(10):\n",
    "    gene = result[i][\"gene\"]\n",
    "    file_path = file_path_base + str(i)\n",
    "    figure.connectome(gene, file_path)"
   ]
  },
  {
   "cell_type": "code",
   "execution_count": null,
   "metadata": {},
   "outputs": [],
   "source": [
    "result = load.load_result_json(\"../result/Result.json\")\n",
    "file_path_base = \"../figure/newron/newron_\"\n",
    "for i in range(10):\n",
    "    gene = result[i][\"gene\"]\n",
    "    file_path = file_path_base + str(i)\n",
    "    figure.newron_output(gene, file_path)"
   ]
  },
  {
   "cell_type": "code",
   "execution_count": null,
   "metadata": {},
   "outputs": [],
   "source": [
    "figure.Bearing_vs_Turing_bias(\n",
    "    \"../output/b_vs_t.txt\", \"../figure/Bearing_vs_Turing_bias.png\"\n",
    ")\n",
    "\n",
    "figure.Normal_gradient_vs_Turing_bias(\n",
    "    \"../output/n_vs_t.txt\", \"../figure/Normal_gradient_vs_Turing_bias.png\"\n",
    ")\n",
    "\n",
    "figure.Translational_gradient_vs_Turing_bias(\n",
    "    \"../output/t_vs_t.txt\", \"../figure/Translational_gradient_vs_Turing_bias.png\"\n",
    ")\n",
    "\n",
    "figure.trajectory(gene, 10, 7, \"../figure/Trajectory_colorbar.png\")\n",
    "\n",
    "figure.trajectory_membrane_potential(gene, 10, \"../figure/membrane_potential_aiy_aiz\")"
   ]
  }
 ],
 "metadata": {
  "kernelspec": {
   "display_name": "c_elegans",
   "language": "python",
   "name": "python3"
  },
  "language_info": {
   "codemirror_mode": {
    "name": "ipython",
    "version": 3
   },
   "file_extension": ".py",
   "mimetype": "text/x-python",
   "name": "python",
   "nbconvert_exporter": "python",
   "pygments_lexer": "ipython3",
   "version": "3.12.0"
  },
  "orig_nbformat": 4
 },
 "nbformat": 4,
 "nbformat_minor": 2
}
