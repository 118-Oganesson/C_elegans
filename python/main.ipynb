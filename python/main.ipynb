{
 "cells": [
  {
   "cell_type": "code",
   "execution_count": 2,
   "metadata": {},
   "outputs": [],
   "source": [
    "import load\n",
    "import oed\n",
    "\n",
    "# jsonファイルの読み込み\n",
    "result = load.load_result_json(\"../result/Result.json\")\n",
    "\n",
    "gene = result[0][\"gene\"]\n",
    "\n",
    "N, M, theta, w_on, w_off, w, g, w_osc, w_nmj = oed.weight(gene)\n",
    "alpha, x_peak, y_peak, dt, T, f, v, time, tau = oed.constant(\"setting\")\n",
    "N_, M_, f_inv, T_ = oed.time_constant_step(gene, \"setting\")"
   ]
  },
  {
   "cell_type": "code",
   "execution_count": null,
   "metadata": {},
   "outputs": [],
   "source": [
    "# connectome\n",
    "import load\n",
    "import figure\n",
    "\n",
    "result = load.load_result_json(\"../result/Result.json\")\n",
    "file_path_base = \"../figure/unlimited/connectome/connectome_\"\n",
    "for i in range(10):\n",
    "    gene = result[i][\"gene\"]\n",
    "    file_path = \"{}{}\".format(file_path_base, i)\n",
    "    figure.connectome(gene, file_path)"
   ]
  },
  {
   "cell_type": "code",
   "execution_count": null,
   "metadata": {},
   "outputs": [],
   "source": [
    "# newron_output\n",
    "import load\n",
    "import figure\n",
    "\n",
    "result = load.load_result_json(\"../result/Result.json\")\n",
    "file_path_base = \"../figure/unlimited/newron/newron_\"\n",
    "for i in range(10):\n",
    "    gene = result[i][\"gene\"]\n",
    "    file_path = \"{}{}\".format(file_path_base, i)\n",
    "    figure.newron_output(gene, file_path)"
   ]
  },
  {
   "cell_type": "code",
   "execution_count": null,
   "metadata": {},
   "outputs": [],
   "source": [
    "# bearing_vs_turning_bias\n",
    "import figure\n",
    "\n",
    "in_file_path_base = \"../output/bearing_vs_turning_bias/b_vs_t_\"\n",
    "out_file_path_base = \"../figure/unlimited/bearing_vs_turning_bias/b_vs_t_\"\n",
    "for i in range(10):\n",
    "    in_file_path = \"{}{}.txt\".format(in_file_path_base, i)\n",
    "    out_file_path = \"{}{}\".format(out_file_path_base, i)\n",
    "    figure.Bearing_vs_Turing_bias(in_file_path, out_file_path)"
   ]
  },
  {
   "cell_type": "code",
   "execution_count": null,
   "metadata": {},
   "outputs": [],
   "source": [
    "# nomal_gradient_vs_turning_bias\n",
    "import figure\n",
    "\n",
    "in_file_path_base = \"../output/nomal_gradient_vs_turning_bias/n_vs_t_\"\n",
    "out_file_path_base = \"../figure/unlimited/nomal_gradient_vs_turning_bias/n_vs_t_\"\n",
    "for i in range(10):\n",
    "    in_file_path = \"{}{}.txt\".format(in_file_path_base, i)\n",
    "    out_file_path = \"{}{}\".format(out_file_path_base, i)\n",
    "    figure.Normal_gradient_vs_Turing_bias(in_file_path, out_file_path)"
   ]
  },
  {
   "cell_type": "code",
   "execution_count": null,
   "metadata": {},
   "outputs": [],
   "source": [
    "# translational_gradient_vs_turning_bias\n",
    "import figure\n",
    "\n",
    "in_file_path_base = \"../output/translational_gradient_vs_turning_bias/t_vs_t_\"\n",
    "out_file_path_base = (\n",
    "    \"../figure/unlimited/translational_gradient_vs_turning_bias/t_vs_t_\"\n",
    ")\n",
    "\n",
    "for i in range(10):\n",
    "    in_file_path = \"{}{}.txt\".format(in_file_path_base, i)\n",
    "    out_file_path = \"{}{}\".format(out_file_path_base, i)\n",
    "    figure.Translational_gradient_vs_Turing_bias(in_file_path, out_file_path)"
   ]
  },
  {
   "cell_type": "code",
   "execution_count": null,
   "metadata": {},
   "outputs": [],
   "source": [
    "# trajectory\n",
    "import load\n",
    "import figure\n",
    "\n",
    "file_path_base = \"../figure/unlimited/trajectory/trajectory_\"\n",
    "result = load.load_result_json(\"../result/Result.json\")\n",
    "for i in range(10):\n",
    "    gene = result[i][\"gene\"]\n",
    "    file_path = \"{}{}\".format(file_path_base, i)\n",
    "    figure.trajectory(gene, 10, 7, file_path)"
   ]
  },
  {
   "cell_type": "code",
   "execution_count": null,
   "metadata": {},
   "outputs": [],
   "source": [
    "# trajectory\n",
    "import load\n",
    "import figure\n",
    "\n",
    "file_path_base = (\n",
    "    \"../figure/unlimited/trajectory_membrane_potential/trajectory_membrane_potential_\"\n",
    ")\n",
    "result = load.load_result_json(\"../result/Result.json\")\n",
    "for i in range(10):\n",
    "    gene = result[i][\"gene\"]\n",
    "    file_path = \"{}{}\".format(file_path_base, i)\n",
    "    figure.trajectory_membrane_potential(gene, 10, file_path)"
   ]
  }
 ],
 "metadata": {
  "kernelspec": {
   "display_name": "c_elegans",
   "language": "python",
   "name": "python3"
  },
  "language_info": {
   "codemirror_mode": {
    "name": "ipython",
    "version": 3
   },
   "file_extension": ".py",
   "mimetype": "text/x-python",
   "name": "python",
   "nbconvert_exporter": "python",
   "pygments_lexer": "ipython3",
   "version": "3.12.1"
  },
  "orig_nbformat": 4
 },
 "nbformat": 4,
 "nbformat_minor": 2
}
