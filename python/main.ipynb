{
 "cells": [
  {
   "cell_type": "code",
   "execution_count": 4,
   "metadata": {},
   "outputs": [],
   "source": [
    "import load\n",
    "import oed\n",
    "import figure"
   ]
  },
  {
   "cell_type": "code",
   "execution_count": 5,
   "metadata": {},
   "outputs": [],
   "source": [
    "# jsonファイルの読み込み\n",
    "result = load.load_result_json(\"../result/Result.json\")\n",
    "\n",
    "gene = result[0][\"gene\"]\n",
    "\n",
    "N, M, theta, w_on, w_off, w, g, w_osc, w_nmj = oed.weight(gene)\n",
    "alpha, x_peak, y_peak, dt, T, f, v, time, tau = oed.constant(\"setting\")\n",
    "N_, M_, f_inv, T_ = oed.time_constant_step(gene, \"setting\")"
   ]
  },
  {
   "cell_type": "code",
   "execution_count": null,
   "metadata": {},
   "outputs": [],
   "source": [
    "result_json_file_path = \"../result/Result.json\"\n",
    "limit_or_unlimit = \"limited\"\n",
    "gene_range = 10\n",
    "use_function = [\n",
    "    \"connectome\",\n",
    "    \"newron_output\",\n",
    "    \"Bearing_vs_Turing_bias\",\n",
    "    \"Normal_gradient_vs_Turing_bias\",\n",
    "    \"Translational_gradient_vs_Turing_bias\",\n",
    "    \"trajectory\",\n",
    "    \"trajectory_membrane_potential\",\n",
    "]\n",
    "\n",
    "figure.all_figure_create(\n",
    "    result_json_file_path, limit_or_unlimit, gene_range, use_function\n",
    ")"
   ]
  },
  {
   "cell_type": "code",
   "execution_count": 3,
   "metadata": {},
   "outputs": [
    {
     "ename": "ModuleNotFoundError",
     "evalue": "No module named 'cv2'",
     "output_type": "error",
     "traceback": [
      "\u001b[0;31m---------------------------------------------------------------------------\u001b[0m",
      "\u001b[0;31mModuleNotFoundError\u001b[0m                       Traceback (most recent call last)",
      "Cell \u001b[0;32mIn[3], line 1\u001b[0m\n\u001b[0;32m----> 1\u001b[0m \u001b[38;5;28;01mimport\u001b[39;00m \u001b[38;5;21;01mcv2\u001b[39;00m\n\u001b[1;32m      2\u001b[0m \u001b[38;5;28;01mimport\u001b[39;00m \u001b[38;5;21;01mglob\u001b[39;00m\n\u001b[1;32m      4\u001b[0m files \u001b[38;5;241m=\u001b[39m glob\u001b[38;5;241m.\u001b[39mglob(\u001b[38;5;124m\"\u001b[39m\u001b[38;5;124m../figure/unlimited/connectome/*\u001b[39m\u001b[38;5;124m\"\u001b[39m)\n",
      "\u001b[0;31mModuleNotFoundError\u001b[0m: No module named 'cv2'"
     ]
    }
   ],
   "source": [
    "import cv2\n",
    "import glob\n",
    "\n",
    "files = glob.glob(\"../figure/unlimited/connectome/*\")\n",
    "for file in files:\n",
    "    print(file)"
   ]
  }
 ],
 "metadata": {
  "kernelspec": {
   "display_name": "c_elegans",
   "language": "python",
   "name": "python3"
  },
  "language_info": {
   "codemirror_mode": {
    "name": "ipython",
    "version": 3
   },
   "file_extension": ".py",
   "mimetype": "text/x-python",
   "name": "python",
   "nbconvert_exporter": "python",
   "pygments_lexer": "ipython3",
   "version": "3.12.0"
  },
  "orig_nbformat": 4
 },
 "nbformat": 4,
 "nbformat_minor": 2
}
