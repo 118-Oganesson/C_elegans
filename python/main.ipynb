{
 "cells": [
  {
   "cell_type": "code",
   "execution_count": 11,
   "metadata": {},
   "outputs": [],
   "source": [
    "import load\n",
    "import oed\n",
    "import figure"
   ]
  },
  {
   "cell_type": "code",
   "execution_count": 12,
   "metadata": {},
   "outputs": [],
   "source": [
    "# jsonファイルの読み込み\n",
    "result = load.load_result_json(\"../result/Result.json\")\n",
    "\n",
    "gene = result[0][\"gene\"]\n",
    "\n",
    "N, M, theta, w_on, w_off, w, g, w_osc, w_nmj = oed.weight(gene)\n",
    "alpha, x_peak, y_peak, dt, T, f, v, time, tau = oed.constant()\n",
    "N_, M_, f_inv, T_ = oed.time_constant_step(gene)\n",
    "\n",
    "figure.trajectory(gene, 10)\n",
    "figure.newron_output(gene)"
   ]
  }
 ],
 "metadata": {
  "kernelspec": {
   "display_name": "c_elegans",
   "language": "python",
   "name": "python3"
  },
  "language_info": {
   "codemirror_mode": {
    "name": "ipython",
    "version": 3
   },
   "file_extension": ".py",
   "mimetype": "text/x-python",
   "name": "python",
   "nbconvert_exporter": "python",
   "pygments_lexer": "ipython3",
   "version": "3.12.0"
  },
  "orig_nbformat": 4
 },
 "nbformat": 4,
 "nbformat_minor": 2
}
